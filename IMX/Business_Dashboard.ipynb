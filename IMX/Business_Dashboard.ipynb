{
 "cells": [
  {
   "cell_type": "code",
   "execution_count": 169,
   "id": "48b1e09b-b9aa-4923-bea7-6315823c4e8f",
   "metadata": {},
   "outputs": [],
   "source": [
    "import pandas as pd\n",
    "import numpy as np\n",
    "import matplotlib.pyplot as plt\n",
    "import seaborn as sns"
   ]
  },
  {
   "cell_type": "code",
   "execution_count": 2,
   "id": "430eda05-5d8b-42d6-8fe1-ec61f994f594",
   "metadata": {},
   "outputs": [],
   "source": [
    "import datetime as dt"
   ]
  },
  {
   "cell_type": "code",
   "execution_count": 3,
   "id": "3326cc25-cc0c-4fd6-a683-43624eb0e2be",
   "metadata": {},
   "outputs": [],
   "source": [
    "import imxUtilities as utils"
   ]
  },
  {
   "cell_type": "code",
   "execution_count": 60,
   "id": "5ebd26a9-d6d6-49ee-8e7d-49ba5003d80a",
   "metadata": {},
   "outputs": [],
   "source": [
    "pd.options.display.float_format = '{:,}'.format"
   ]
  },
  {
   "cell_type": "code",
   "execution_count": 4,
   "id": "9c5b35a4-8054-456c-a78b-49d3136e52e5",
   "metadata": {},
   "outputs": [],
   "source": [
    "ticket_data = utils.data.tickets_data()\n",
    "invoice_data = utils.data.invoice_data()"
   ]
  },
  {
   "cell_type": "code",
   "execution_count": 16,
   "id": "c4a62ee8-571d-4f49-98dd-972bf89421f0",
   "metadata": {},
   "outputs": [],
   "source": [
    "revenue_df = ticket_data[['date', 'company_name', 'jobsite',\\\n",
    "                              'net_weight', 'hours_worked', \\\n",
    "                              'material_type', 'rate']].copy()\n",
    "revenue_df['weight_revenue'] = revenue_df['rate']*revenue_df['net_weight']\n",
    "revenue_df['hourly_revenue'] = revenue_df['rate']*revenue_df['hours_worked']\n",
    "revenue_df['total_revenue'] = revenue_df['weight_revenue'] + revenue_df['hourly_revenue']\n",
    "revenue_df['date'] = pd.to_datetime(revenue_df['date'], format='%Y-%m-%d')"
   ]
  },
  {
   "cell_type": "code",
   "execution_count": 17,
   "id": "d7aae10c-1ff2-4614-9d3f-aa590d6617e7",
   "metadata": {},
   "outputs": [
    {
     "data": {
      "text/html": [
       "<div>\n",
       "<style scoped>\n",
       "    .dataframe tbody tr th:only-of-type {\n",
       "        vertical-align: middle;\n",
       "    }\n",
       "\n",
       "    .dataframe tbody tr th {\n",
       "        vertical-align: top;\n",
       "    }\n",
       "\n",
       "    .dataframe thead th {\n",
       "        text-align: right;\n",
       "    }\n",
       "</style>\n",
       "<table border=\"1\" class=\"dataframe\">\n",
       "  <thead>\n",
       "    <tr style=\"text-align: right;\">\n",
       "      <th></th>\n",
       "      <th>date</th>\n",
       "      <th>company_name</th>\n",
       "      <th>jobsite</th>\n",
       "      <th>net_weight</th>\n",
       "      <th>hours_worked</th>\n",
       "      <th>material_type</th>\n",
       "      <th>rate</th>\n",
       "      <th>weight_revenue</th>\n",
       "      <th>hourly_revenue</th>\n",
       "      <th>total_revenue</th>\n",
       "    </tr>\n",
       "  </thead>\n",
       "  <tbody>\n",
       "    <tr>\n",
       "      <th>0</th>\n",
       "      <td>2022-02-02</td>\n",
       "      <td>JBI Scrap Processors</td>\n",
       "      <td>JBI</td>\n",
       "      <td>25900</td>\n",
       "      <td>0</td>\n",
       "      <td>5_foot_heavy_torching</td>\n",
       "      <td>30</td>\n",
       "      <td>777000</td>\n",
       "      <td>0</td>\n",
       "      <td>777000</td>\n",
       "    </tr>\n",
       "    <tr>\n",
       "      <th>1</th>\n",
       "      <td>2022-02-02</td>\n",
       "      <td>JBI Scrap Processors</td>\n",
       "      <td>JBI</td>\n",
       "      <td>28100</td>\n",
       "      <td>0</td>\n",
       "      <td>5_foot_heavy_torching</td>\n",
       "      <td>30</td>\n",
       "      <td>843000</td>\n",
       "      <td>0</td>\n",
       "      <td>843000</td>\n",
       "    </tr>\n",
       "    <tr>\n",
       "      <th>2</th>\n",
       "      <td>2022-02-02</td>\n",
       "      <td>JBI Scrap Processors</td>\n",
       "      <td>JBI</td>\n",
       "      <td>40400</td>\n",
       "      <td>0</td>\n",
       "      <td>5_foot_heavy_torching</td>\n",
       "      <td>30</td>\n",
       "      <td>1212000</td>\n",
       "      <td>0</td>\n",
       "      <td>1212000</td>\n",
       "    </tr>\n",
       "    <tr>\n",
       "      <th>3</th>\n",
       "      <td>2022-02-02</td>\n",
       "      <td>JBI Scrap Processors</td>\n",
       "      <td>JBI</td>\n",
       "      <td>26800</td>\n",
       "      <td>0</td>\n",
       "      <td>5_foot_heavy_torching</td>\n",
       "      <td>30</td>\n",
       "      <td>804000</td>\n",
       "      <td>0</td>\n",
       "      <td>804000</td>\n",
       "    </tr>\n",
       "    <tr>\n",
       "      <th>4</th>\n",
       "      <td>2022-01-19</td>\n",
       "      <td>Cohen Recycling</td>\n",
       "      <td>Sardinia</td>\n",
       "      <td>21440</td>\n",
       "      <td>0</td>\n",
       "      <td>5_foot_heavy_torching</td>\n",
       "      <td>30</td>\n",
       "      <td>643200</td>\n",
       "      <td>0</td>\n",
       "      <td>643200</td>\n",
       "    </tr>\n",
       "  </tbody>\n",
       "</table>\n",
       "</div>"
      ],
      "text/plain": [
       "        date          company_name   jobsite  net_weight  hours_worked  \\\n",
       "0 2022-02-02  JBI Scrap Processors       JBI       25900             0   \n",
       "1 2022-02-02  JBI Scrap Processors       JBI       28100             0   \n",
       "2 2022-02-02  JBI Scrap Processors       JBI       40400             0   \n",
       "3 2022-02-02  JBI Scrap Processors       JBI       26800             0   \n",
       "4 2022-01-19       Cohen Recycling  Sardinia       21440             0   \n",
       "\n",
       "           material_type  rate  weight_revenue  hourly_revenue  total_revenue  \n",
       "0  5_foot_heavy_torching    30          777000               0         777000  \n",
       "1  5_foot_heavy_torching    30          843000               0         843000  \n",
       "2  5_foot_heavy_torching    30         1212000               0        1212000  \n",
       "3  5_foot_heavy_torching    30          804000               0         804000  \n",
       "4  5_foot_heavy_torching    30          643200               0         643200  "
      ]
     },
     "execution_count": 17,
     "metadata": {},
     "output_type": "execute_result"
    }
   ],
   "source": [
    "revenue_df.head()"
   ]
  },
  {
   "cell_type": "code",
   "execution_count": 27,
   "id": "3d109aed-78c3-4e57-8864-3c637a7776d6",
   "metadata": {
    "tags": []
   },
   "outputs": [
    {
     "data": {
      "text/html": [
       "<div>\n",
       "<style scoped>\n",
       "    .dataframe tbody tr th:only-of-type {\n",
       "        vertical-align: middle;\n",
       "    }\n",
       "\n",
       "    .dataframe tbody tr th {\n",
       "        vertical-align: top;\n",
       "    }\n",
       "\n",
       "    .dataframe thead th {\n",
       "        text-align: right;\n",
       "    }\n",
       "</style>\n",
       "<table border=\"1\" class=\"dataframe\">\n",
       "  <thead>\n",
       "    <tr style=\"text-align: right;\">\n",
       "      <th></th>\n",
       "      <th>date</th>\n",
       "      <th>company_name</th>\n",
       "      <th>jobsite</th>\n",
       "      <th>net_weight</th>\n",
       "      <th>hours_worked</th>\n",
       "      <th>material_type</th>\n",
       "      <th>rate</th>\n",
       "      <th>weight_revenue</th>\n",
       "      <th>hourly_revenue</th>\n",
       "      <th>total_revenue</th>\n",
       "    </tr>\n",
       "  </thead>\n",
       "  <tbody>\n",
       "    <tr>\n",
       "      <th>0</th>\n",
       "      <td>2022-02-02</td>\n",
       "      <td>JBI Scrap Processors</td>\n",
       "      <td>JBI</td>\n",
       "      <td>25900</td>\n",
       "      <td>0</td>\n",
       "      <td>5_foot_heavy_torching</td>\n",
       "      <td>30</td>\n",
       "      <td>777000</td>\n",
       "      <td>0</td>\n",
       "      <td>777000</td>\n",
       "    </tr>\n",
       "    <tr>\n",
       "      <th>1</th>\n",
       "      <td>2022-02-02</td>\n",
       "      <td>JBI Scrap Processors</td>\n",
       "      <td>JBI</td>\n",
       "      <td>28100</td>\n",
       "      <td>0</td>\n",
       "      <td>5_foot_heavy_torching</td>\n",
       "      <td>30</td>\n",
       "      <td>843000</td>\n",
       "      <td>0</td>\n",
       "      <td>843000</td>\n",
       "    </tr>\n",
       "    <tr>\n",
       "      <th>2</th>\n",
       "      <td>2022-02-02</td>\n",
       "      <td>JBI Scrap Processors</td>\n",
       "      <td>JBI</td>\n",
       "      <td>40400</td>\n",
       "      <td>0</td>\n",
       "      <td>5_foot_heavy_torching</td>\n",
       "      <td>30</td>\n",
       "      <td>1212000</td>\n",
       "      <td>0</td>\n",
       "      <td>1212000</td>\n",
       "    </tr>\n",
       "    <tr>\n",
       "      <th>3</th>\n",
       "      <td>2022-02-02</td>\n",
       "      <td>JBI Scrap Processors</td>\n",
       "      <td>JBI</td>\n",
       "      <td>26800</td>\n",
       "      <td>0</td>\n",
       "      <td>5_foot_heavy_torching</td>\n",
       "      <td>30</td>\n",
       "      <td>804000</td>\n",
       "      <td>0</td>\n",
       "      <td>804000</td>\n",
       "    </tr>\n",
       "    <tr>\n",
       "      <th>4</th>\n",
       "      <td>2022-01-19</td>\n",
       "      <td>Cohen Recycling</td>\n",
       "      <td>Sardinia</td>\n",
       "      <td>21440</td>\n",
       "      <td>0</td>\n",
       "      <td>5_foot_heavy_torching</td>\n",
       "      <td>30</td>\n",
       "      <td>643200</td>\n",
       "      <td>0</td>\n",
       "      <td>643200</td>\n",
       "    </tr>\n",
       "  </tbody>\n",
       "</table>\n",
       "</div>"
      ],
      "text/plain": [
       "        date          company_name   jobsite  net_weight  hours_worked  \\\n",
       "0 2022-02-02  JBI Scrap Processors       JBI       25900             0   \n",
       "1 2022-02-02  JBI Scrap Processors       JBI       28100             0   \n",
       "2 2022-02-02  JBI Scrap Processors       JBI       40400             0   \n",
       "3 2022-02-02  JBI Scrap Processors       JBI       26800             0   \n",
       "4 2022-01-19       Cohen Recycling  Sardinia       21440             0   \n",
       "\n",
       "           material_type  rate  weight_revenue  hourly_revenue  total_revenue  \n",
       "0  5_foot_heavy_torching    30          777000               0         777000  \n",
       "1  5_foot_heavy_torching    30          843000               0         843000  \n",
       "2  5_foot_heavy_torching    30         1212000               0        1212000  \n",
       "3  5_foot_heavy_torching    30          804000               0         804000  \n",
       "4  5_foot_heavy_torching    30          643200               0         643200  "
      ]
     },
     "execution_count": 27,
     "metadata": {},
     "output_type": "execute_result"
    }
   ],
   "source": [
    "revenue_df[revenue_df['date'] > '2022-01-01'].head()"
   ]
  },
  {
   "cell_type": "code",
   "execution_count": 135,
   "id": "5e0d3dbf-9955-420f-94c8-64e06aa4752b",
   "metadata": {},
   "outputs": [
    {
     "data": {
      "text/plain": [
       "Index(['date', 'company_name', 'jobsite', 'net_weight', 'hours_worked',\n",
       "       'material_type', 'rate', 'weight_revenue', 'hourly_revenue',\n",
       "       'total_revenue'],\n",
       "      dtype='object')"
      ]
     },
     "execution_count": 135,
     "metadata": {},
     "output_type": "execute_result"
    }
   ],
   "source": [
    "revenue_df.columns"
   ]
  },
  {
   "cell_type": "code",
   "execution_count": 144,
   "id": "9772899c-33df-4319-9d4e-cb234aeb12dc",
   "metadata": {},
   "outputs": [],
   "source": [
    "def revenue_by_month(data_df):\n",
    "    data_df = data_df[['date', 'total_revenue']]\n",
    "    current_year = dt.date.today().year\n",
    "    start_of_year = dt.date(current_year, 1, 1)\n",
    "    data_df = data_df[data_df.date.dt.date > start_of_year]\n",
    "    by_month = data_df.groupby(by=data_df.date.dt.month).sum()\n",
    "    for col in by_month:\n",
    "        by_month[col] = by_month.apply(lambda x: \"{:,}\".format(x[col]), axis=1)\n",
    "    return by_month\n",
    "    "
   ]
  },
  {
   "cell_type": "code",
   "execution_count": 257,
   "id": "394f4ff3-155e-4ebb-934c-988ae5470e2c",
   "metadata": {},
   "outputs": [],
   "source": [
    "by_month = revenue_by_month(revenue_df)\n",
    "#by_month.reset_index(inplace=True)"
   ]
  },
  {
   "cell_type": "code",
   "execution_count": 265,
   "id": "41c7dbfd-c913-4c34-b4d1-6155cf45a705",
   "metadata": {},
   "outputs": [
    {
     "data": {
      "text/plain": [
       "<AxesSubplot:xlabel='date'>"
      ]
     },
     "execution_count": 265,
     "metadata": {},
     "output_type": "execute_result"
    },
    {
     "data": {
      "image/png": "[encoded data removed]",
      "text/plain": [
       "<Figure size 432x288 with 1 Axes>"
      ]
     },
     "metadata": {
      "needs_background": "light"
     },
     "output_type": "display_data"
    }
   ],
   "source": [
    "revenue_df.groupby(revenue_df.date.dt.month).sum()['total_revenue'].plot(kind='bar')"
   ]
  },
  {
   "cell_type": "code",
   "execution_count": 270,
   "id": "0c96808b-a668-40fb-9be3-b65baecaf873",
   "metadata": {},
   "outputs": [],
   "source": [
    "by_month = revenue_df.groupby(by=[revenue_df.date.dt.year,revenue_df.date.dt.month ]).sum()"
   ]
  },
  {
   "cell_type": "code",
   "execution_count": 277,
   "id": "49be7def-d3f2-4035-8ea9-8a9b4aa0515c",
   "metadata": {},
   "outputs": [
    {
     "data": {
      "text/plain": [
       "<AxesSubplot:xlabel='date,date'>"
      ]
     },
     "execution_count": 277,
     "metadata": {},
     "output_type": "execute_result"
    },
    {
     "data": {
      "image/png": "[encoded data removed]",
      "text/plain": [
       "<Figure size 432x288 with 1 Axes>"
      ]
     },
     "metadata": {
      "needs_background": "light"
     },
     "output_type": "display_data"
    }
   ],
   "source": [
    "#by_month['total_revenue'].plot.bar()\n",
    "\n",
    "revenue_df.groupby(by=[revenue_df.date.dt.year,revenue_df.date.dt.month ])['total_revenue'].sum().plot(kind='bar')"
   ]
  },
  {
   "cell_type": "code",
   "execution_count": 241,
   "id": "fe2362d1-0ecc-4060-bc3e-7c25a0d3b76a",
   "metadata": {},
   "outputs": [
    {
     "data": {
      "text/html": [
       "<div>\n",
       "<style scoped>\n",
       "    .dataframe tbody tr th:only-of-type {\n",
       "        vertical-align: middle;\n",
       "    }\n",
       "\n",
       "    .dataframe tbody tr th {\n",
       "        vertical-align: top;\n",
       "    }\n",
       "\n",
       "    .dataframe thead th {\n",
       "        text-align: right;\n",
       "    }\n",
       "</style>\n",
       "<table border=\"1\" class=\"dataframe\">\n",
       "  <thead>\n",
       "    <tr style=\"text-align: right;\">\n",
       "      <th></th>\n",
       "      <th></th>\n",
       "      <th>net_weight</th>\n",
       "      <th>hours_worked</th>\n",
       "      <th>rate</th>\n",
       "      <th>weight_revenue</th>\n",
       "      <th>hourly_revenue</th>\n",
       "      <th>total_revenue</th>\n",
       "    </tr>\n",
       "    <tr>\n",
       "      <th>date</th>\n",
       "      <th>date</th>\n",
       "      <th></th>\n",
       "      <th></th>\n",
       "      <th></th>\n",
       "      <th></th>\n",
       "      <th></th>\n",
       "      <th></th>\n",
       "    </tr>\n",
       "  </thead>\n",
       "  <tbody>\n",
       "    <tr>\n",
       "      <th rowspan=\"2\" valign=\"top\">2022</th>\n",
       "      <th>1</th>\n",
       "      <td>40520</td>\n",
       "      <td>0</td>\n",
       "      <td>85</td>\n",
       "      <td>1692600</td>\n",
       "      <td>0</td>\n",
       "      <td>1692600</td>\n",
       "    </tr>\n",
       "    <tr>\n",
       "      <th>2</th>\n",
       "      <td>148900</td>\n",
       "      <td>0</td>\n",
       "      <td>575</td>\n",
       "      <td>5005500</td>\n",
       "      <td>0</td>\n",
       "      <td>5005500</td>\n",
       "    </tr>\n",
       "  </tbody>\n",
       "</table>\n",
       "</div>"
      ],
      "text/plain": [
       "           net_weight  hours_worked  rate  weight_revenue  hourly_revenue  \\\n",
       "date date                                                                   \n",
       "2022 1          40520             0    85         1692600               0   \n",
       "     2         148900             0   575         5005500               0   \n",
       "\n",
       "           total_revenue  \n",
       "date date                 \n",
       "2022 1           1692600  \n",
       "     2           5005500  "
      ]
     },
     "execution_count": 241,
     "metadata": {},
     "output_type": "execute_result"
    }
   ],
   "source": [
    "by_moth"
   ]
  },
  {
   "cell_type": "code",
   "execution_count": 274,
   "id": "a6fbb5f2-38e8-4c9b-8905-5ba36a6b7728",
   "metadata": {},
   "outputs": [
    {
     "data": {
      "text/plain": [
       "<AxesSubplot:xlabel='date,date'>"
      ]
     },
     "execution_count": 274,
     "metadata": {},
     "output_type": "execute_result"
    },
    {
     "data": {
      "image/png": "[encoded data removed]",
      "text/plain": [
       "<Figure size 432x288 with 1 Axes>"
      ]
     },
     "metadata": {
      "needs_background": "light"
     },
     "output_type": "display_data"
    }
   ],
   "source": [
    "fig, axes = plt.subplots(1,1)\n",
    "by_month['total_revenue'].plot(kind='bar')"
   ]
  },
  {
   "cell_type": "code",
   "execution_count": null,
   "id": "1a0efbac-4280-4c45-9e06-6ef080a05dc9",
   "metadata": {},
   "outputs": [],
   "source": []
  }
 ],
 "metadata": {
  "kernelspec": {
   "display_name": "Python 3 (ipykernel)",
   "language": "python",
   "name": "python3"
  },
  "language_info": {
   "codemirror_mode": {
    "name": "ipython",
    "version": 3
   },
   "file_extension": ".py",
   "mimetype": "text/x-python",
   "name": "python",
   "nbconvert_exporter": "python",
   "pygments_lexer": "ipython3",
   "version": "3.10.2"
  }
 },
 "nbformat": 4,
 "nbformat_minor": 5
}
