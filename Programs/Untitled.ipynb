{
 "cells": [
  {
   "cell_type": "code",
   "execution_count": 1,
   "id": "ae9a182f-307b-4e21-87cf-ece7f954ac6d",
   "metadata": {},
   "outputs": [],
   "source": [
    "import pandas as pd\n",
    "import datetime as dt\n",
    "from datetime import timedelta\n",
    "import IMX_Utils as utils\n",
    "from collections import defaultdict"
   ]
  },
  {
   "cell_type": "code",
   "execution_count": 2,
   "id": "d93a5c2e-8c83-40b1-92e0-96fe33eb821c",
   "metadata": {},
   "outputs": [
    {
     "name": "stdout",
     "output_type": "stream",
     "text": [
      "2022-01-01\n",
      "2022-01-03\n"
     ]
    }
   ],
   "source": [
    "start_date = dt.date(2022, 1, 1)\n",
    "end_date = dt.date(2022, 1, 3)\n",
    "print(start_date)\n",
    "print(end_date)"
   ]
  },
  {
   "cell_type": "code",
   "execution_count": 3,
   "id": "bceb0f4d-fc02-4a37-861b-aebc7280b6e8",
   "metadata": {},
   "outputs": [],
   "source": [
    "def all_filter_by_date(start_date, end_date):\n",
    "    contractor_list = utils.get_contractors()\n",
    "    ticket_data = pd.read_csv('../Data/Raw/Tickets.csv', delimiter=',')\n",
    "    number_of_days = start_date - end_date\n",
    "    number_of_days = abs(int(number_of_days.days))\n",
    "    # list of desired dates, inclusive\n",
    "    desired_dates = [(start_date + timedelta(days=n)) for n in range(number_of_days + 1)]\n",
    "    select_tickets = defaultdict()\n",
    "    for date in desired_dates:\n",
    "        test_rows = ticket_data[ticket_data['date'] == str(date)]\n",
    "        select_tickets[str(date)] = test_rows\n",
    "    return select_tickets\n"
   ]
  },
  {
   "cell_type": "code",
   "execution_count": 4,
   "id": "32e651cb-7ac3-407c-9887-ae41f7277f10",
   "metadata": {},
   "outputs": [],
   "source": [
    "def ticket_contractors(full_payroll_out):\n",
    "    # Code to get ticket, contractor, and then figure out how much they get paid.\n",
    "    \"\"\"\n",
    "    For each contractor\n",
    "        get list of tickets\n",
    "        go through tickets and calculate his weight and multiply by his rate\n",
    "        return date, contractor, pay\n",
    "    \"\"\"\n",
    "        \n",
    "    \n",
    "    "
   ]
  },
  {
   "cell_type": "code",
   "execution_count": 5,
   "id": "ed901c2a-f5a3-4c07-8887-bff1aeaf967c",
   "metadata": {},
   "outputs": [],
   "source": [
    "data = all_filter_by_date(start_date, end_date)"
   ]
  },
  {
   "cell_type": "code",
   "execution_count": 6,
   "id": "78963a83-9c9e-4cf1-ac5d-2c2b7b8acfa2",
   "metadata": {},
   "outputs": [
    {
     "data": {
      "text/plain": [
       "dict_keys(['2022-01-01', '2022-01-02', '2022-01-03'])"
      ]
     },
     "execution_count": 6,
     "metadata": {},
     "output_type": "execute_result"
    }
   ],
   "source": [
    "data.keys()"
   ]
  },
  {
   "cell_type": "code",
   "execution_count": 7,
   "id": "8aa89b17-f1c1-40ed-a9ee-d4f32ee4e581",
   "metadata": {},
   "outputs": [
    {
     "data": {
      "text/html": [
       "<div>\n",
       "<style scoped>\n",
       "    .dataframe tbody tr th:only-of-type {\n",
       "        vertical-align: middle;\n",
       "    }\n",
       "\n",
       "    .dataframe tbody tr th {\n",
       "        vertical-align: top;\n",
       "    }\n",
       "\n",
       "    .dataframe thead th {\n",
       "        text-align: right;\n",
       "    }\n",
       "</style>\n",
       "<table border=\"1\" class=\"dataframe\">\n",
       "  <thead>\n",
       "    <tr style=\"text-align: right;\">\n",
       "      <th></th>\n",
       "      <th>external_id</th>\n",
       "      <th>internal_id</th>\n",
       "      <th>company_name</th>\n",
       "      <th>job_site</th>\n",
       "      <th>date</th>\n",
       "      <th>employees</th>\n",
       "      <th>num_of_employees</th>\n",
       "      <th>tare_weight</th>\n",
       "      <th>gross_weight</th>\n",
       "      <th>net_weight</th>\n",
       "      <th>hours_worked</th>\n",
       "      <th>material_type</th>\n",
       "      <th>rate</th>\n",
       "    </tr>\n",
       "  </thead>\n",
       "  <tbody>\n",
       "    <tr>\n",
       "      <th>0</th>\n",
       "      <td>1001</td>\n",
       "      <td>100001</td>\n",
       "      <td>company1</td>\n",
       "      <td>name</td>\n",
       "      <td>2022-01-01</td>\n",
       "      <td>Gerardo Sandoval, Fred Barker</td>\n",
       "      <td>2</td>\n",
       "      <td>100</td>\n",
       "      <td>200</td>\n",
       "      <td>100</td>\n",
       "      <td>0</td>\n",
       "      <td>metal</td>\n",
       "      <td>60</td>\n",
       "    </tr>\n",
       "    <tr>\n",
       "      <th>1</th>\n",
       "      <td>1002</td>\n",
       "      <td>100002</td>\n",
       "      <td>company2</td>\n",
       "      <td>job2</td>\n",
       "      <td>2022-01-01</td>\n",
       "      <td>Heather Barker, Amy Sandoval</td>\n",
       "      <td>2</td>\n",
       "      <td>1000</td>\n",
       "      <td>2000</td>\n",
       "      <td>1000</td>\n",
       "      <td>0</td>\n",
       "      <td>metal</td>\n",
       "      <td>60</td>\n",
       "    </tr>\n",
       "    <tr>\n",
       "      <th>10</th>\n",
       "      <td>1011</td>\n",
       "      <td>100009</td>\n",
       "      <td>Total</td>\n",
       "      <td>Site 1</td>\n",
       "      <td>2022-01-01</td>\n",
       "      <td>Gerardo Sandoval, Fred Barker</td>\n",
       "      <td>2</td>\n",
       "      <td>100</td>\n",
       "      <td>200</td>\n",
       "      <td>100</td>\n",
       "      <td>0</td>\n",
       "      <td>metal</td>\n",
       "      <td>60</td>\n",
       "    </tr>\n",
       "    <tr>\n",
       "      <th>11</th>\n",
       "      <td>1012</td>\n",
       "      <td>100010</td>\n",
       "      <td>Total</td>\n",
       "      <td>Site 1</td>\n",
       "      <td>2022-01-01</td>\n",
       "      <td>Heather Barker, Amy Sandoval</td>\n",
       "      <td>2</td>\n",
       "      <td>1000</td>\n",
       "      <td>2000</td>\n",
       "      <td>1000</td>\n",
       "      <td>0</td>\n",
       "      <td>metal</td>\n",
       "      <td>60</td>\n",
       "    </tr>\n",
       "    <tr>\n",
       "      <th>12</th>\n",
       "      <td>1013</td>\n",
       "      <td>100011</td>\n",
       "      <td>Total</td>\n",
       "      <td>Site 1</td>\n",
       "      <td>2022-01-01</td>\n",
       "      <td>Gerardo Sandoval, Fred Barker</td>\n",
       "      <td>2</td>\n",
       "      <td>100</td>\n",
       "      <td>200</td>\n",
       "      <td>100</td>\n",
       "      <td>0</td>\n",
       "      <td>metal</td>\n",
       "      <td>60</td>\n",
       "    </tr>\n",
       "  </tbody>\n",
       "</table>\n",
       "</div>"
      ],
      "text/plain": [
       "    external_id  internal_id company_name job_site        date  \\\n",
       "0          1001       100001     company1     name  2022-01-01   \n",
       "1          1002       100002     company2     job2  2022-01-01   \n",
       "10         1011       100009        Total   Site 1  2022-01-01   \n",
       "11         1012       100010        Total   Site 1  2022-01-01   \n",
       "12         1013       100011        Total   Site 1  2022-01-01   \n",
       "\n",
       "                        employees  num_of_employees  tare_weight  \\\n",
       "0   Gerardo Sandoval, Fred Barker                 2          100   \n",
       "1    Heather Barker, Amy Sandoval                 2         1000   \n",
       "10  Gerardo Sandoval, Fred Barker                 2          100   \n",
       "11   Heather Barker, Amy Sandoval                 2         1000   \n",
       "12  Gerardo Sandoval, Fred Barker                 2          100   \n",
       "\n",
       "    gross_weight  net_weight  hours_worked material_type  rate  \n",
       "0            200         100             0         metal    60  \n",
       "1           2000        1000             0         metal    60  \n",
       "10           200         100             0         metal    60  \n",
       "11          2000        1000             0         metal    60  \n",
       "12           200         100             0         metal    60  "
      ]
     },
     "execution_count": 7,
     "metadata": {},
     "output_type": "execute_result"
    }
   ],
   "source": [
    "data['2022-01-01']"
   ]
  },
  {
   "cell_type": "code",
   "execution_count": null,
   "id": "3b454a05-235e-46ca-9a02-05f9d0d133f7",
   "metadata": {},
   "outputs": [],
   "source": []
  }
 ],
 "metadata": {
  "kernelspec": {
   "display_name": "Python 3 (ipykernel)",
   "language": "python",
   "name": "python3"
  },
  "language_info": {
   "codemirror_mode": {
    "name": "ipython",
    "version": 3
   },
   "file_extension": ".py",
   "mimetype": "text/x-python",
   "name": "python",
   "nbconvert_exporter": "python",
   "pygments_lexer": "ipython3",
   "version": "3.10.1"
  }
 },
 "nbformat": 4,
 "nbformat_minor": 5
}
